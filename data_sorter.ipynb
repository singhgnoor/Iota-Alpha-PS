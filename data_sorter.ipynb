{
 "cells": [
  {
   "cell_type": "code",
   "id": "initial_id",
   "metadata": {
    "collapsed": true,
    "ExecuteTime": {
     "end_time": "2025-10-22T09:49:29.268277Z",
     "start_time": "2025-10-22T09:49:29.265283Z"
    }
   },
   "source": [
    "import os\n",
    "from random import random\n",
    "\n",
    "from sympy.codegen.cnodes import sizeof"
   ],
   "outputs": [],
   "execution_count": 55
  },
  {
   "metadata": {
    "ExecuteTime": {
     "end_time": "2025-10-22T09:24:20.829643Z",
     "start_time": "2025-10-22T09:24:20.824420Z"
    }
   },
   "cell_type": "code",
   "source": "DATADIR = \"D:\\\\Programming\\\\Playground\\\\datasets\\\\FLY_MOS_Dataset\"",
   "id": "b0b1a3b4fc80bbff",
   "outputs": [],
   "execution_count": 9
  },
  {
   "metadata": {
    "ExecuteTime": {
     "end_time": "2025-10-22T09:24:21.384873Z",
     "start_time": "2025-10-22T09:24:21.381877Z"
    }
   },
   "cell_type": "code",
   "source": "os.chdir(DATADIR)",
   "id": "3385786acf497ddf",
   "outputs": [],
   "execution_count": 10
  },
  {
   "metadata": {
    "ExecuteTime": {
     "end_time": "2025-10-22T09:46:36.402207Z",
     "start_time": "2025-10-22T09:46:36.283921Z"
    }
   },
   "cell_type": "code",
   "source": [
    "dataset = [[], [], []]  # fly, mosquito, back\n",
    "\n",
    "\n",
    "# Now separating the train and validating set, 80:20, Each type should be in that ratio\n",
    "for path, folders, files in os.walk(os.getcwd()):\n",
    "    print(path)\n",
    "    for file in files:\n",
    "        if file.endswith(\".txt\"):\n",
    "            with open(os.path.join(path, file), \"r\") as f:\n",
    "                lines = f.readlines() # This works for just the 1st time\n",
    "                if lines:\n",
    "                    if lines[0][0] == \"0\":\n",
    "                        dataset[0].append(path+\"\\\\\"+file)\n",
    "                    elif lines[0][0] == \"1\":\n",
    "                        dataset[1].append(path+\"\\\\\"+file)\n",
    "                else:\n",
    "                    dataset[2].append(path+\"\\\\\"+file)\n"
   ],
   "id": "c0bf6d080994ba85",
   "outputs": [
    {
     "name": "stdout",
     "output_type": "stream",
     "text": [
      "D:\\Programming\\Playground\\datasets\\FLY_MOS_Dataset\n"
     ]
    }
   ],
   "execution_count": 46
  },
  {
   "metadata": {
    "ExecuteTime": {
     "end_time": "2025-10-22T09:51:43.705023Z",
     "start_time": "2025-10-22T09:51:43.700948Z"
    }
   },
   "cell_type": "code",
   "source": [
    "val=[]\n",
    "train=[]\n",
    "\n",
    "for category in dataset:\n",
    "    for item in category:\n",
    "        if random() > 0.8:\n",
    "            # Validating\n",
    "            val.append(item)\n",
    "        else:\n",
    "            train.append(item)\n",
    "\n"
   ],
   "id": "99a61f768dfd26fa",
   "outputs": [],
   "execution_count": 58
  },
  {
   "metadata": {
    "ExecuteTime": {
     "end_time": "2025-10-22T10:11:30.747338Z",
     "start_time": "2025-10-22T10:11:30.743365Z"
    }
   },
   "cell_type": "code",
   "source": [
    "\"\"\" Now Just have to make the folder and sort the thing \"\"\"\n",
    "os.chdir(DATADIR)\n",
    "os.chdir(\"..\\\\\")\n",
    "os.getcwd()\n",
    "\n",
    "\"\"\" ONE TIME COMMANDS \"\"\"\n",
    "os.makedirs(\"Fly_Mos_Formatted\\\\images\\\\train\", exist_ok=True)\n",
    "os.makedirs(\"Fly_Mos_Formatted\\\\images\\\\val\", exist_ok=True)\n",
    "os.makedirs(\"Fly_Mos_Formatted\\\\labels\\\\train\", exist_ok=True)\n",
    "os.makedirs(\"Fly_Mos_Formatted\\\\labels\\\\val\", exist_ok=True)\n",
    "\n",
    "for item in train:\n",
    "    os.chdir(DATADIR)\n",
    "    os.chdir(\"..\\\\\")\n",
    "    os.chdir(\"Fly_Mos_Formatted\")\n",
    "    \n"
   ],
   "id": "e1122fda3eb274a6",
   "outputs": [
    {
     "data": {
      "text/plain": [
       "'D:\\\\Programming\\\\Playground\\\\datasets'"
      ]
     },
     "execution_count": 69,
     "metadata": {},
     "output_type": "execute_result"
    }
   ],
   "execution_count": 69
  },
  {
   "metadata": {
    "ExecuteTime": {
     "end_time": "2025-10-22T10:13:04.047273Z",
     "start_time": "2025-10-22T10:13:04.042927Z"
    }
   },
   "cell_type": "code",
   "source": [
    "\"\"\" ONE TIME COMMANDS \"\"\"\n",
    "os.makedirs(\"Fly_Mos_Formatted\\\\images\\\\train\", exist_ok=True)\n",
    "os.makedirs(\"Fly_Mos_Formatted\\\\images\\\\val\", exist_ok=True)\n",
    "os.makedirs(\"Fly_Mos_Formatted\\\\labels\\\\train\", exist_ok=True)\n",
    "os.makedirs(\"Fly_Mos_Formatted\\\\labels\\\\val\", exist_ok=True)"
   ],
   "id": "856f1c788f2a70d2",
   "outputs": [],
   "execution_count": 72
  },
  {
   "metadata": {
    "ExecuteTime": {
     "end_time": "2025-10-22T09:38:03.487052Z",
     "start_time": "2025-10-22T09:38:03.482731Z"
    }
   },
   "cell_type": "code",
   "source": "",
   "id": "3f5ea53c0d5cb089",
   "outputs": [
    {
     "data": {
      "text/plain": [
       "571"
      ]
     },
     "execution_count": 40,
     "metadata": {},
     "output_type": "execute_result"
    }
   ],
   "execution_count": 40
  },
  {
   "metadata": {
    "ExecuteTime": {
     "end_time": "2025-10-22T09:52:29.780999Z",
     "start_time": "2025-10-22T09:52:29.777654Z"
    }
   },
   "cell_type": "code",
   "source": "580*3",
   "id": "319316739d581633",
   "outputs": [
    {
     "data": {
      "text/plain": [
       "1740"
      ]
     },
     "execution_count": 59,
     "metadata": {},
     "output_type": "execute_result"
    }
   ],
   "execution_count": 59
  },
  {
   "metadata": {},
   "cell_type": "code",
   "outputs": [],
   "execution_count": null,
   "source": "",
   "id": "eac41fd5cf821248"
  }
 ],
 "metadata": {
  "kernelspec": {
   "display_name": "Python 3",
   "language": "python",
   "name": "python3"
  },
  "language_info": {
   "codemirror_mode": {
    "name": "ipython",
    "version": 2
   },
   "file_extension": ".py",
   "mimetype": "text/x-python",
   "name": "python",
   "nbconvert_exporter": "python",
   "pygments_lexer": "ipython2",
   "version": "2.7.6"
  }
 },
 "nbformat": 4,
 "nbformat_minor": 5
}
